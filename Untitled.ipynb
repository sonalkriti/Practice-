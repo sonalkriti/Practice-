{
 "cells": [
  {
   "cell_type": "code",
   "execution_count": 36,
   "id": "6a71abb3",
   "metadata": {},
   "outputs": [],
   "source": [
    "\n",
    "def countIntegerFunction():\n",
    "    x=7\n",
    "    if(x==1):\n",
    "        print(1)\n",
    "    result_previous=\"1\"\n",
    "    result_new=\"\"\n",
    "    for i in range(2,x+1):\n",
    "        result_new=count_function(result_previous)\n",
    "        result_previous=result_new\n",
    "    print(str(result_new))\n",
    "\n",
    "\n",
    "def count_function(num):\n",
    "    s=\"\"\n",
    "    count=1\n",
    "    for i in range(0,len(num)):\n",
    "        if(i<len(num)-1):\n",
    "            if(num[i]==num[i+1]):\n",
    "                count=count+1\n",
    "            else:\n",
    "                s= s+\"%s\"%count+num[i]\n",
    "                count=1;\n",
    "        else:\n",
    "            s=s+\"%s\"%count+num[i];\n",
    "    return s\n",
    "    \n",
    "    "
   ]
  },
  {
   "cell_type": "code",
   "execution_count": 34,
   "id": "a3290c94",
   "metadata": {},
   "outputs": [
    {
     "name": "stdout",
     "output_type": "stream",
     "text": [
      "140620450687568 140620450687568\n"
     ]
    }
   ],
   "source": [
    "a = 10\n",
    "b = 10\n",
    "print (id(a), id(b))"
   ]
  },
  {
   "cell_type": "code",
   "execution_count": null,
   "id": "2d81c439",
   "metadata": {},
   "outputs": [],
   "source": []
  },
  {
   "cell_type": "code",
   "execution_count": null,
   "id": "97b7f121",
   "metadata": {},
   "outputs": [],
   "source": []
  },
  {
   "cell_type": "code",
   "execution_count": null,
   "id": "e309d76a",
   "metadata": {},
   "outputs": [],
   "source": []
  }
 ],
 "metadata": {
  "kernelspec": {
   "display_name": "Python 3 (ipykernel)",
   "language": "python",
   "name": "python3"
  },
  "language_info": {
   "codemirror_mode": {
    "name": "ipython",
    "version": 3
   },
   "file_extension": ".py",
   "mimetype": "text/x-python",
   "name": "python",
   "nbconvert_exporter": "python",
   "pygments_lexer": "ipython3",
   "version": "3.9.13"
  }
 },
 "nbformat": 4,
 "nbformat_minor": 5
}
